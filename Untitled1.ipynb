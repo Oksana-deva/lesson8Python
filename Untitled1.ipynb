{
  "nbformat": 4,
  "nbformat_minor": 0,
  "metadata": {
    "colab": {
      "provenance": [],
      "authorship_tag": "ABX9TyPHZ0DgTnV5X4UAiBDS+4dV",
      "include_colab_link": true
    },
    "kernelspec": {
      "name": "python3",
      "display_name": "Python 3"
    },
    "language_info": {
      "name": "python"
    }
  },
  "cells": [
    {
      "cell_type": "markdown",
      "metadata": {
        "id": "view-in-github",
        "colab_type": "text"
      },
      "source": [
        "<a href=\"https://colab.research.google.com/github/Oksana-deva/lesson8Python/blob/main/Untitled1.ipynb\" target=\"_parent\"><img src=\"https://colab.research.google.com/assets/colab-badge.svg\" alt=\"Open In Colab\"/></a>"
      ]
    },
    {
      "cell_type": "code",
      "execution_count": 9,
      "metadata": {
        "colab": {
          "base_uri": "https://localhost:8080/"
        },
        "id": "l4XCDBSPtnMw",
        "outputId": "2e73e7cb-249f-4de6-e58b-b966ff2772cb"
      },
      "outputs": [
        {
          "output_type": "stream",
          "name": "stdout",
          "text": [
            "   whoAmI\n",
            "0   robot\n",
            "1   human\n",
            "2   human\n",
            "3   robot\n",
            "4   human\n",
            "5   robot\n",
            "6   human\n",
            "7   human\n",
            "8   human\n",
            "9   robot\n",
            "10  robot\n",
            "11  robot\n",
            "12  robot\n",
            "13  human\n",
            "14  human\n",
            "15  robot\n",
            "16  robot\n",
            "17  human\n",
            "18  robot\n",
            "19  human\n",
            "    robot  human\n",
            "0       1      0\n",
            "1       0      1\n",
            "2       0      1\n",
            "3       1      0\n",
            "4       0      1\n",
            "5       1      0\n",
            "6       0      1\n",
            "7       0      1\n",
            "8       0      1\n",
            "9       1      0\n",
            "10      1      0\n",
            "11      1      0\n",
            "12      1      0\n",
            "13      0      1\n",
            "14      0      1\n",
            "15      1      0\n",
            "16      1      0\n",
            "17      0      1\n",
            "18      1      0\n",
            "19      0      1\n"
          ]
        }
      ],
      "source": [
        "import pandas as pd\n",
        "import random\n",
        "\n",
        "lst = ['robot'] * 10\n",
        "lst += ['human'] * 10\n",
        "random.shuffle(lst)\n",
        "data = pd.DataFrame({'whoAmI': lst})\n",
        "print(data)\n",
        "\n",
        "data.loc[data['whoAmI'] == 'robot', ['robot']] =  1\n",
        "data.loc[data['whoAmI'] == 'human', ['robot']] =  0\n",
        "\n",
        "data.loc[data['whoAmI'] == 'robot', ['human']] =  0\n",
        "data.loc[data['whoAmI'] == 'human', ['human']] =  1\n",
        "\n",
        "data[['human', 'robot']] = data[['human', 'robot']].astype('int')\n",
        "data = data.drop(['whoAmI'], axis = 1)\n",
        "print(data)"
      ]
    }
  ]
}