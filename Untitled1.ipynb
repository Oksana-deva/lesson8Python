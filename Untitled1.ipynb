{
  "nbformat": 4,
  "nbformat_minor": 0,
  "metadata": {
    "colab": {
      "provenance": [],
      "authorship_tag": "ABX9TyPHZ0DgTnV5X4UAiBDS+4dV",
      "include_colab_link": true
    },
    "kernelspec": {
      "name": "python3",
      "display_name": "Python 3"
    },
    "language_info": {
      "name": "python"
    }
  },
  "cells": [
    {
      "cell_type": "markdown",
      "metadata": {
        "id": "view-in-github",
        "colab_type": "text"
      },
      "source": [
        "<a href=\"https://colab.research.google.com/github/Oksana-deva/lesson8Python/blob/main/Untitled1.ipynb\" target=\"_parent\"><img src=\"https://colab.research.google.com/assets/colab-badge.svg\" alt=\"Open In Colab\"/></a>"
      ]
    },
    {
      "cell_type": "code",
      "execution_count": 8,
      "metadata": {
        "colab": {
          "base_uri": "https://localhost:8080/"
        },
        "id": "l4XCDBSPtnMw",
        "outputId": "abd1be59-b80c-4366-902e-8e5a39a01699"
      },
      "outputs": [
        {
          "output_type": "stream",
          "name": "stdout",
          "text": [
            "   whoAmI\n",
            "0   robot\n",
            "1   robot\n",
            "2   human\n",
            "3   human\n",
            "4   human\n",
            "5   human\n",
            "6   human\n",
            "7   robot\n",
            "8   human\n",
            "9   human\n",
            "10  robot\n",
            "11  human\n",
            "12  robot\n",
            "13  human\n",
            "14  robot\n",
            "15  human\n",
            "16  robot\n",
            "17  robot\n",
            "18  robot\n",
            "19  robot\n",
            "    robot  human\n",
            "0       1      0\n",
            "1       1      0\n",
            "2       0      1\n",
            "3       0      1\n",
            "4       0      1\n",
            "5       0      1\n",
            "6       0      1\n",
            "7       1      0\n",
            "8       0      1\n",
            "9       0      1\n",
            "10      1      0\n",
            "11      0      1\n",
            "12      1      0\n",
            "13      0      1\n",
            "14      1      0\n",
            "15      0      1\n",
            "16      1      0\n",
            "17      1      0\n",
            "18      1      0\n",
            "19      1      0\n"
          ]
        }
      ],
      "source": [
        "import pandas as pd\n",
        "import random\n",
        "\n",
        "lst = ['robot'] * 10\n",
        "lst += ['human'] * 10\n",
        "random.shuffle(lst)\n",
        "data = pd.DataFrame({'whoAmI': lst})\n",
        "print(data)\n",
        "\n",
        "data.loc[data['whoAmI'] == 'robot', ['robot']] =  1\n",
        "data.loc[data['whoAmI'] == 'human', ['robot']] =  0\n",
        "\n",
        "data.loc[data['whoAmI'] == 'robot', ['human']] =  0\n",
        "data.loc[data['whoAmI'] == 'human', ['human']] =  1\n",
        "\n",
        "data[['human', 'robot']] = data[['human', 'robot']].astype('int')\n",
        "data = data.drop(['whoAmI'], axis = 1)\n",
        "print(data)"
      ]
    }
  ]
}